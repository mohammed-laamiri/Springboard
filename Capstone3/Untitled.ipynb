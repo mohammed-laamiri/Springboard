{
 "cells": [
  {
   "cell_type": "markdown",
   "metadata": {},
   "source": [
    "# Convolutional Neural Network"
   ]
  },
  {
   "cell_type": "code",
   "execution_count": 1,
   "metadata": {},
   "outputs": [],
   "source": [
    "#X_test_3d = X_test.values.reshape(X_test.shape[0], X_test.shape[1], 1)"
   ]
  },
  {
   "cell_type": "code",
   "execution_count": 2,
   "metadata": {},
   "outputs": [],
   "source": [
    "#X_train_3d.shape"
   ]
  },
  {
   "cell_type": "code",
   "execution_count": 3,
   "metadata": {},
   "outputs": [],
   "source": [
    "#X_test_3d.shape"
   ]
  },
  {
   "cell_type": "code",
   "execution_count": 4,
   "metadata": {},
   "outputs": [],
   "source": [
    "# def build_model(hp):  \n",
    "#  model = keras.Sequential([\n",
    "#     keras.layers.Conv2D(\n",
    "#         filters=hp.Int('conv_1_filter', min_value=32, max_value=128, step=16),\n",
    "#         kernel_size=hp.Choice('conv_1_kernel', values = [3,5]),\n",
    "#         activation='relu',\n",
    "#         input_shape=(29,29,1)\n",
    "#     ),\n",
    "#     keras.layers.Conv2D(\n",
    "#         filters=hp.Int('conv_2_filter', min_value=32, max_value=64, step=16),\n",
    "#         kernel_size=hp.Choice('conv_2_kernel', values = [3,5]),\n",
    "#          activation='relu'\n",
    "#     ),\n",
    "#     keras.layers.Flatten(),\n",
    "#     keras.layers.Dense(\n",
    "#         units=hp.Int('dense_1_units', min_value=32, max_value=128, step=16),\n",
    "#         activation='relu'\n",
    "#     ),\n",
    "#     keras.layers.Dense(10, activation='softmax')\n",
    "#   ])\n",
    "  \n",
    "#   model.compile(optimizer=keras.optimizers.Adam(hp.Choice('learning_rate', values=[1e-2, 1e-3])),\n",
    "#               loss='sparse_categorical_crossentropy',\n",
    "#               metrics=['accuracy'])\n",
    "  \n",
    "#   return model"
   ]
  },
  {
   "cell_type": "code",
   "execution_count": 5,
   "metadata": {},
   "outputs": [],
   "source": [
    "# from kerastuner import RandomSearch\n",
    "# from kerastuner.engine.hyperparameters import HyperParameters"
   ]
  },
  {
   "cell_type": "code",
   "execution_count": 6,
   "metadata": {},
   "outputs": [],
   "source": [
    "# tuner_search=RandomSearch(build_model,\n",
    "#                           objective='val_accuracy',\n",
    "#                           max_trials=5, directory='output', project_name=\"CNN_Model_3\")"
   ]
  },
  {
   "cell_type": "code",
   "execution_count": 7,
   "metadata": {},
   "outputs": [],
   "source": [
    "#tuner_search.search(X_train, y_train, epochs=5, validation_split=0.1)"
   ]
  },
  {
   "cell_type": "code",
   "execution_count": 8,
   "metadata": {},
   "outputs": [],
   "source": [
    "#model=tuner_search.get_best_models(num_models=1)[0]"
   ]
  },
  {
   "cell_type": "code",
   "execution_count": 9,
   "metadata": {},
   "outputs": [],
   "source": [
    "#model.summary()"
   ]
  },
  {
   "cell_type": "code",
   "execution_count": 10,
   "metadata": {},
   "outputs": [],
   "source": [
    "#model.fit(train_images, train_labels, epochs=10, validation_split=0.1, initial_epoch=3)"
   ]
  },
  {
   "cell_type": "code",
   "execution_count": 11,
   "metadata": {},
   "outputs": [],
   "source": [
    "# from keras.models import Model, Sequential\n",
    "# from keras.layers import (\n",
    "#     Input,\n",
    "#     Conv1D,\n",
    "#     MaxPooling1D,\n",
    "#     Dense,\n",
    "#     Flatten,\n",
    "#     Dropout,\n",
    "#     BatchNormalization,\n",
    "# )\n",
    "\n",
    "# model = Sequential()\n",
    "\n",
    "# model.add(\n",
    "#     Conv1D(filters=32, kernel_size=2, activation=\"relu\", input_shape=X_train_3d[0].shape)\n",
    "# )\n",
    "# model.add(BatchNormalization())\n",
    "# model.add(Dropout(0.1))\n",
    "\n",
    "# model.add(Conv1D(filters=64, kernel_size=2, activation=\"relu\"))\n",
    "# model.add(BatchNormalization())\n",
    "# model.add(Dropout(0.2))\n",
    "\n",
    "# model.add(Conv1D(filters=128, kernel_size=2, activation=\"relu\"))\n",
    "# model.add(BatchNormalization())\n",
    "# model.add(Dropout(0.3))\n",
    "\n",
    "# model.add(Flatten())\n",
    "# model.add(Dense(64, activation=\"relu\"))\n",
    "# model.add(Dropout(0.5))\n",
    "# model.add(Dense(1, activation=\"sigmoid\"))\n",
    "\n",
    "# model.summary()"
   ]
  },
  {
   "cell_type": "code",
   "execution_count": 12,
   "metadata": {},
   "outputs": [],
   "source": [
    "# model.compile(\n",
    "#     optimizer=\"adam\",\n",
    "#     loss=\"binary_crossentropy\",\n",
    "#     metrics=[\"accuracy\", keras.metrics.AUC()],\n",
    "# )\n",
    "\n",
    "# # fitting the model\n",
    "# history = model.fit(X_train_3d, y_train, validation_data=(X_test_3d, y_test), epochs=50)"
   ]
  },
  {
   "cell_type": "code",
   "execution_count": 13,
   "metadata": {},
   "outputs": [],
   "source": [
    "# Accuracy curve\n",
    "\n",
    "# plt.figure(figsize=[6, 4])\n",
    "# plt.plot(history.history[\"accuracy\"], \"red\", linewidth=2.0)\n",
    "# plt.plot(history.history[\"val_accuracy\"], \"blue\", linewidth=2.0)\n",
    "# plt.legend([\"Training Accuracy\", \"Validation Accuracy\"], fontsize=14)\n",
    "# plt.xlabel(\"Epochs\", fontsize=10)\n",
    "# plt.ylabel(\"Accuracy\", fontsize=10)\n",
    "# plt.title(\"Accuracy Curves\", fontsize=12)"
   ]
  },
  {
   "cell_type": "code",
   "execution_count": 14,
   "metadata": {},
   "outputs": [],
   "source": [
    "# # AUC curve\n",
    "\n",
    "# plt.figure(figsize=[6, 4])\n",
    "# plt.plot(history.history[\"auc\"], \"green\", linewidth=2.0)\n",
    "# plt.plot(history.history[\"val_auc\"], \"brown\", linewidth=2.0)\n",
    "# plt.legend([\"Training AUC\", \"Validation AUC\"], fontsize=14)\n",
    "# plt.xlabel(\"Epochs\", fontsize=10)\n",
    "# plt.ylabel(\"AUC\", fontsize=10)\n",
    "# plt.title(\"AUC Curves\", fontsize=12)"
   ]
  },
  {
   "cell_type": "code",
   "execution_count": null,
   "metadata": {},
   "outputs": [],
   "source": []
  }
 ],
 "metadata": {
  "kernelspec": {
   "display_name": "Python 3",
   "language": "python",
   "name": "python3"
  },
  "language_info": {
   "codemirror_mode": {
    "name": "ipython",
    "version": 3
   },
   "file_extension": ".py",
   "mimetype": "text/x-python",
   "name": "python",
   "nbconvert_exporter": "python",
   "pygments_lexer": "ipython3",
   "version": "3.8.5"
  }
 },
 "nbformat": 4,
 "nbformat_minor": 4
}
